{
 "cells": [
  {
   "cell_type": "code",
   "execution_count": null,
   "metadata": {
    "tags": [
     "parameters"
    ]
   },
   "outputs": [],
   "source": [
    "a =\n",
    "b =\n",
    "c =\n",
    "d =\n",
    "n ="
   ]
  },
  {
   "cell_type": "code",
   "execution_count": null,
   "metadata": {
    "slideshow": {
     "slide_type": "-"
    }
   },
   "outputs": [],
   "source": [
    "Pkg.add(\"StatsBase\")\n",
    "using StatsBase\n",
    "\n",
    "function nrationalpoints_naive(f, p)\n",
    "    @distributed (+) for x in 0:p-1\n",
    "        s = 0\n",
    "        for y in 0:p-1\n",
    "            s += ifelse(mod(f(x,y),p) == 0, 1, 0)\n",
    "        end\n",
    "        s\n",
    "    end\n",
    "end\n",
    "\n",
    "function plot_SatoTate_naive(f; figtitle=\"Sato-Tate conjecture\", N=2^12)\n",
    "    P = primes(N)\n",
    "    @show N, length(P)\n",
    "    @time S = nrationalpoints_naive.(f, P) .+ 1 # \"+1\" は無限遠点の個数\n",
    "    plot_SatoTate(P, S; figtitle=figtitle)\n",
    "end\n",
    "\n",
    "function nrationalpoints_legendre(g, p)\n",
    "    @distributed (+) for x in 0:p-1\n",
    "        l = legendresymbol(mod(g(x),p), p)\n",
    "        ifelse(l == 1, 2, ifelse(l == -1, 0, 1))\n",
    "    end\n",
    "end\n",
    "\n",
    "function plot_SatoTate_legendre(f; figtitle=\"Sato-Tate conjecture\", N=2^12)\n",
    "    P = primes(N)\n",
    "    @show N, length(P)\n",
    "    @time S = nrationalpoints_legendre.(f, P) .+ 1 # \"+1\" は無限遠点の個数\n",
    "    plot_SatoTate(P, S; figtitle=figtitle)\n",
    "end\n",
    "\n",
    "function plot_SatoTate(P, S; figtitle=\"Sato-Tate conjecture\")\n",
    "    a = (P .+ 1) - S\n",
    "\n",
    "    @show count(abs.(a) .> 2sqrt.(P)) # Weil予想の確認\n",
    "    X = a ./ (2sqrt.(P)) # -1 から 1 の区間に入るように正規化\n",
    "    θ = acos.(X)\n",
    "\n",
    "    x = range(-1, 1, length=200)\n",
    "    g(x) = (2/π)*sqrt(1-x^2) # 半円則\n",
    "\n",
    "    t = range(0, π, length=200)\n",
    "    h(t) = (2/π)*sin(t)^2 # sin^2 分布\n",
    "\n",
    "    sleep(0.1)\n",
    "    plt.figure(figsize=(8,3))\n",
    "    \n",
    "    plt.subplot(121)\n",
    "    plt.hist(X, normed=true, bins=21, alpha=0.5, label=\"\\$a_p/(2\\\\sqrt{p})\\$\")\n",
    "    plt.plot(x, g.(x), color=\"red\", ls=\"--\", label=\"\\$y=(2/\\\\pi)\\\\sqrt{1-x^2}\\$\")\n",
    "    plt.xlabel(\"\\$x\\$\")\n",
    "    plt.grid(ls=\":\")\n",
    "    plt.legend(fontsize=9)\n",
    "    plt.title(figtitle, fontsize=10)\n",
    "    \n",
    "    plt.subplot(122)\n",
    "    plt.hist(θ, normed=true, bins=21, alpha=0.5, label=\"\\$\\\\arccos(a_p/(2\\\\sqrt{p}))\")\n",
    "    plt.plot(t, h.(t), color=\"red\", ls=\"--\", label=\"\\$y=(2/\\\\pi)\\\\sin^2\\\\theta\\$\")\n",
    "    plt.xlabel(\"\\$\\\\theta\\$\")\n",
    "    plt.grid(ls=\":\")\n",
    "    plt.legend(fontsize=8)\n",
    "    plt.title(figtitle, fontsize=10)\n",
    "    plt.tight_layout()\n",
    "    println(fit(Histogram, 180θ/π,  0.0:10.0:180.0, closed= :right))\n",
    "end\n",
    "\n",
    "function plot_SatoTate_legendre_4(f; figtitle=\"Sato-Tate conjecture\", N=2^12)\n",
    "    P = primes(N)\n",
    "    @show N, length(P)\n",
    "    @time S = nrationalpoints_legendre.(f, P) .+ 1 # \"+1\" は無限遠点の個数\n",
    "    plot_SatoTate_4(P, S; figtitle=figtitle)\n",
    "end\n",
    "\n",
    "function plot_SatoTate_4(P, S; figtitle=\"Sato-Tate conjecture\")\n",
    "    a = (P .+ 1) - S\n",
    "\n",
    "    @show count(abs.(a) .> 4sqrt.(P)) # Weil予想の確認\n",
    "    X = a ./ (4sqrt.(P)) # -1 から 1 の区間に入るように正規化\n",
    "    θ = acos.(X)\n",
    "\n",
    "    x = range(-1, 1, length=200)\n",
    "    g(x) = (6/π)*sqrt(1-x^2) # 半円則\n",
    "\n",
    "    t = range(0, π, length=200)\n",
    "    h(t) = (6/π)*sin(t)^2 # sin^2 分布\n",
    "\n",
    "    sleep(0.1)\n",
    "    plt.figure(figsize=(8,3))\n",
    "    \n",
    "    plt.subplot(121)\n",
    "    plt.hist(X, normed=true, bins=21, alpha=0.5, label=\"\\$a_p/(2\\\\sqrt{p})\\$\")\n",
    "    plt.plot(x, g.(x), color=\"red\", ls=\"--\", label=\"\\$y=(2/\\\\pi)\\\\sqrt{1-x^2}\\$\")\n",
    "    plt.xlabel(\"\\$x\\$\")\n",
    "    plt.grid(ls=\":\")\n",
    "    plt.legend(fontsize=9)\n",
    "    plt.title(figtitle, fontsize=10)\n",
    "    \n",
    "    plt.subplot(122)\n",
    "    plt.hist(θ, normed=true, bins=21, alpha=0.5, label=\"\\$\\\\arccos(a_p/(2\\\\sqrt{p}))\")\n",
    "    plt.plot(t, h.(t), color=\"red\", ls=\"--\", label=\"\\$y=(2/\\\\pi)\\\\sin^2\\\\theta\\$\")\n",
    "    plt.xlabel(\"\\$\\\\theta\\$\")\n",
    "    plt.grid(ls=\":\")\n",
    "    plt.legend(fontsize=8)\n",
    "    plt.title(figtitle, fontsize=10)\n",
    "\n",
    "    plt.tight_layout()\n",
    "end"
   ]
  },
  {
   "cell_type": "markdown",
   "metadata": {
    "slideshow": {
     "slide_type": "subslide"
    }
   },
   "source": [
    "楕円曲線 $y^2 = ax^3 + bx^2 + cx + d$ の場合の佐藤・Tate予想を数値的に確認.\n",
    "\n",
    "Legendre記号を使った計算によって高速化し, より多数の素数における有理点の個数を求める."
   ]
  },
  {
   "cell_type": "code",
   "execution_count": null,
   "metadata": {
    "slideshow": {
     "slide_type": "-"
    }
   },
   "outputs": [],
   "source": [
    "addedprocs = addprocs(40)\n",
    "@everywhere using Combinatorics: legendresymbol\n",
    "@everywhere g(x) = ax^3 + bx^2 + cx + d\n",
    "N = 2^n\n",
    "figtitle = \"Sat-Tate conj. for  \\$y^ax^3 + bx^2 + cx + d\\$,  \\$p < 2^{n}\\$\"\n",
    "plot_SatoTate_legendre(g, figtitle=figtitle, N=N)\n",
    "rmprocs(addedprocs);"
   ]
  },
  {
   "cell_type": "code",
   "execution_count": null,
   "metadata": {
    "scrolled": true,
    "slideshow": {
     "slide_type": "-"
    }
   },
   "outputs": [],
   "source": [
    "import Pkg\n",
    "Pkg.add(\"Plots\")\n",
    "Pkg.add(\"PyPlot\")\n",
    "Pkg.add(\"DifferentialEquations\")\n",
    "Pkg.add(\"Combinatorics\")\n",
    "Pkg.add(\"Distributed\")\n",
    "Pkg.add(\"Distributions\")\n",
    "Pkg.add(\"Libdl\")\n",
    "Pkg.add(\"LinearAlgebra\")\n",
    "Pkg.add(\"Optim\")\n",
    "Pkg.add(\"Primes\")\n",
    "Pkg.add(\"ProgressMeter\")\n",
    "Pkg.add(\"RCall\")\n",
    "Pkg.add(\"SpecialFunctions\")\n",
    "Pkg.add(\"Statistics\")\n",
    "Pkg.add(\"SymPy\")\n",
    "\n",
    "print(\"using Plots ->\")\n",
    "@time using Plots\n",
    "gr(legend=false); ENV[\"PLOTS_TEST\"] = \"true\"\n",
    "\n",
    "print(\"\\nplot(sin) ->\")\n",
    "@time plot(sin, size=(300, 160)) |> display # コンパイル\n",
    "\n",
    "print(\"\\nusing PyPlot ->\")\n",
    "@time using PyPlot: PyPlot, plt\n",
    "\n",
    "print(\"\\nusing DifferentialEquations ->\")\n",
    "@time using DifferentialEquations\n",
    "\n",
    "using Base64\n",
    "using Combinatorics\n",
    "using Distributed\n",
    "using Distributions\n",
    "using Libdl\n",
    "using LinearAlgebra\n",
    "using Optim\n",
    "using Primes\n",
    "using ProgressMeter\n",
    "using Random: seed!\n",
    "using RCall\n",
    "using SpecialFunctions\n",
    "using Statistics\n",
    "using SymPy: SymPy, sympy, Sym, @vars, @syms, simplify, oo, PI\n",
    "\n",
    "ldisp(x...) = display(\"text/html\", raw\"$$\" * prod(x) * raw\"$$\")\n",
    "\n",
    "showimg(mime, fn) = open(fn) do f\n",
    "    base64 = base64encode(f)\n",
    "    display(\"text/html\", \"\"\"<img src=\"data:$mime;base64,$base64\">\"\"\")\n",
    "end"
   ]
  }
 ],
 "metadata": {
  "_draft": {
   "nbviewer_url": "https://gist.github.com/91db4780c941f8c49a968ad27d27f46c"
  },
  "gist": {
   "data": {
    "description": "msfd28/Julia/msfd28genkuroki.ipynb",
    "public": true
   },
   "id": "91db4780c941f8c49a968ad27d27f46c"
  },
  "kernelspec": {
   "display_name": "Julia 1.3.1",
   "language": "julia",
   "name": "julia-1.3"
  },
  "language_info": {
   "file_extension": ".jl",
   "mimetype": "application/julia",
   "name": "julia",
   "version": "1.3.1"
  },
  "toc": {
   "base_numbering": 1,
   "nav_menu": {},
   "number_sections": true,
   "sideBar": true,
   "skip_h1_title": true,
   "title_cell": "目次",
   "title_sidebar": "目次",
   "toc_cell": true,
   "toc_position": {
    "height": "calc(100% - 180px)",
    "left": "10px",
    "top": "150px",
    "width": "249.332px"
   },
   "toc_section_display": true,
   "toc_window_display": false
  }
 },
 "nbformat": 4,
 "nbformat_minor": 2
}
